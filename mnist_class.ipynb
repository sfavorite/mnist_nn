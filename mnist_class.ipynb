{
 "cells": [
  {
   "cell_type": "markdown",
   "metadata": {},
   "source": [
    "# Pytorch MNIST (hello world) Neural Net"
   ]
  },
  {
   "cell_type": "markdown",
   "metadata": {},
   "source": [
    "This project shows the basics of building a PyTorch Neural Net. Training, saving, loading a model and using cuda."
   ]
  },
  {
   "cell_type": "code",
   "execution_count": 21,
   "metadata": {
    "colab": {
     "base_uri": "https://localhost:8080/",
     "height": 34
    },
    "colab_type": "code",
    "executionInfo": {
     "elapsed": 270,
     "status": "ok",
     "timestamp": 1557404716216,
     "user": {
      "displayName": "Scot Favorite",
      "photoUrl": "https://lh4.googleusercontent.com/-3y6D5_1Qqn0/AAAAAAAAAAI/AAAAAAAAACY/VZIIF48ZBTQ/s64/photo.jpg",
      "userId": "11040752765604455739"
     },
     "user_tz": 240
    },
    "id": "GmrtbTIzTb1m",
    "outputId": "e260ef9a-618f-4872-bf03-bf7eaefec5c3"
   },
   "outputs": [
    {
     "name": "stdout",
     "output_type": "stream",
     "text": [
      "PyTorch version: 1.0.1.post2\n"
     ]
    }
   ],
   "source": [
    "import torch \n",
    "import torch.nn as nn\n",
    "from torch import optim\n",
    "import torch.nn as nn\n",
    "import torch.nn.functional as F\n",
    "import torchvision \n",
    "import torchvision.datasets as datasets \n",
    "from torchvision import transforms \n",
    "\n",
    "from time import time\n",
    "import collections\n",
    "from collections import OrderedDict\n",
    "import matplotlib.pyplot as plt\n",
    "\n",
    "from tqdm import tnrange, tqdm_notebook\n",
    "\n",
    "print(\"PyTorch version: \" + torch.__version__)"
   ]
  },
  {
   "cell_type": "code",
   "execution_count": 26,
   "metadata": {},
   "outputs": [],
   "source": [
    "# Hyper Parameters  \n",
    "input_size = 784\n",
    "hidden_sizes = [512, 128]\n",
    "output_size = 10\n",
    "num_classes = 10\n",
    "image_size=28*28\n",
    "learning_rate = 0.001\n",
    "batch_size = 64"
   ]
  },
  {
   "cell_type": "markdown",
   "metadata": {
    "colab": {},
    "colab_type": "code",
    "id": "Yh9hAPXfTb11"
   },
   "source": [
    "# Process the data via torch pipeline"
   ]
  },
  {
   "cell_type": "code",
   "execution_count": 27,
   "metadata": {
    "colab": {},
    "colab_type": "code",
    "id": "s3-e6gu6Tb16"
   },
   "outputs": [],
   "source": [
    "# Transform to a tensor only \n",
    "transform = transforms.ToTensor()\n",
    "# or normalize the values \n",
    "transform = transforms.Compose([transforms.ToTensor(),transforms.Normalize((0.5,), (0.5,)),])\n",
    "\n",
    "# Apply the transform and resize the images to 28x28\n",
    "transform1 = transforms.Compose([transforms.Resize((28,28)), transforms.ToTensor()])\n",
    "\n",
    "# Save a copy of the data locally so as not to abuse PyTorch downloads\n",
    "mnist_trainset = datasets.MNIST(root='./data', train=True, download=True, transform=transform)\n",
    "mnist_testset = datasets.MNIST(root='./data', train=False, download=True, transform=transform)"
   ]
  },
  {
   "cell_type": "code",
   "execution_count": 28,
   "metadata": {
    "colab": {},
    "colab_type": "code",
    "id": "RcYS8-M7Tb2C"
   },
   "outputs": [],
   "source": [
    "# Setup torach Input Pipline iterator for batch processing \n",
    "train_loader = torch.utils.data.DataLoader(mnist_trainset, batch_size=batch_size, shuffle=True, num_workers=2)\n",
    "test_loader = torch.utils.data.DataLoader(mnist_testset, batch_size=batch_size, shuffle=True, num_workers=2)"
   ]
  },
  {
   "cell_type": "code",
   "execution_count": 29,
   "metadata": {
    "colab": {},
    "colab_type": "code",
    "id": "wXwjJci4Tb2I"
   },
   "outputs": [],
   "source": [
    "class MNIST_DEEP(nn.Module):\n",
    "    def __init__(self,image_size, hidden_sizes, output_size):\n",
    "        super(MNIST_DEEP, self).__init__()\n",
    "        self.image_size = image_size\n",
    "        # First layer\n",
    "        self.layer1 = nn.Sequential()\n",
    "        self.layer1.add_module(\"Linear1\", nn.Linear(self.image_size, hidden_sizes[0]))\n",
    "        self.layer1.add_module(\"ReLU1\", nn.ReLU(inplace=False))\n",
    "        \n",
    "        # Second layer \n",
    "        self.layer2 = nn.Sequential(OrderedDict([\n",
    "            ('Linear2', nn.Linear(hidden_sizes[0], hidden_sizes[1])),\n",
    "            ('ReLU2', nn.ReLU(inplace=False))\n",
    "        ]))\n",
    "        self.layer3 = nn.Sequential(OrderedDict([\n",
    "            ('Linear3', nn.Linear(hidden_sizes[1], output_size)),\n",
    "            ('ReLU3', nn.LogSoftmax(dim=1))\n",
    "        ]))\n",
    "        \n",
    "      \n",
    "    def forward(self, x):\n",
    "        # Flatten the image tensor to 1x784\n",
    "        x = x.view(-1, self.image_size)\n",
    "        # Apply each layer to the incoming data \n",
    "        # The F.relu is the activation function \n",
    "        x = self.layer1(x)\n",
    "        x = self.layer2(x)\n",
    "        return self.layer3(x)\n",
    "    \n",
    "    \n",
    "    def train_model(self, epochs):\n",
    "        time0 = time()\n",
    "        for epoch in tnrange(1, epochs+1, desc='Epoch '):\n",
    "            running_loss = 0\n",
    "            for i, (images, labels) in enumerate(tqdm_notebook(train_loader, desc='Step', leave=False)):\n",
    "                if torch.cuda.is_available():\n",
    "                    images = images.cuda()\n",
    "                    labels = labels.cuda()\n",
    "                # Flatten MNIST images into a 784 long vector\n",
    "                images = images.view(images.shape[0], -1)\n",
    "\n",
    "                # Training pass\n",
    "                optimizer.zero_grad()\n",
    "\n",
    "                output = model(images)\n",
    "                # Compute the loss \n",
    "                loss = criterion(output, labels)\n",
    "\n",
    "                # Backpropagation\n",
    "                loss.backward()\n",
    "\n",
    "                # Optimize the weights \n",
    "                optimizer.step()\n",
    "\n",
    "                running_loss += loss.item()\n",
    "                #if (i + 1) % 100 == 0:\n",
    "                #    print('Epoch: [% d/% d], Step: [% d/% d], Loss: %.4f'\n",
    "                #          % (epoch + 1, epochs, i + 1, \n",
    "                #             len(mnist_trainset) // batch_size, loss.item())) \n",
    "            else:\n",
    "                print(\"Epoch {} - Training loss: {}\".format(epoch, running_loss/len(train_loader)))\n",
    "\n",
    "\n",
    "        print(\"\\nTraining Time (in minutes) = {:.2f}\".format((time()-time0)/60))\n",
    "        "
   ]
  },
  {
   "cell_type": "code",
   "execution_count": 30,
   "metadata": {
    "colab": {},
    "colab_type": "code",
    "id": "PpXBJnopTb2L"
   },
   "outputs": [],
   "source": [
    "model = MNIST_DEEP(image_size, hidden_sizes, output_size)\n",
    "if torch.cuda.is_available():\n",
    "    model = model.cuda()\n",
    "    \n",
    "criterion = nn.CrossEntropyLoss()\n",
    "optimizer = optim.Adam(model.parameters(), lr=learning_rate)"
   ]
  },
  {
   "cell_type": "code",
   "execution_count": 31,
   "metadata": {
    "colab": {
     "base_uri": "https://localhost:8080/",
     "height": 153
    },
    "colab_type": "code",
    "executionInfo": {
     "elapsed": 17965,
     "status": "ok",
     "timestamp": 1557404806279,
     "user": {
      "displayName": "Scot Favorite",
      "photoUrl": "https://lh4.googleusercontent.com/-3y6D5_1Qqn0/AAAAAAAAAAI/AAAAAAAAACY/VZIIF48ZBTQ/s64/photo.jpg",
      "userId": "11040752765604455739"
     },
     "user_tz": 240
    },
    "id": "Sx7wzhl4Tb2Q",
    "outputId": "0cf83a8f-b79e-4021-ee42-1b77de9c7962"
   },
   "outputs": [
    {
     "data": {
      "application/vnd.jupyter.widget-view+json": {
       "model_id": "c8262064b5844ca0abea8cbfda1d1aa9",
       "version_major": 2,
       "version_minor": 0
      },
      "text/plain": [
       "HBox(children=(IntProgress(value=0, description='Epoch ', max=10, style=ProgressStyle(description_width='initi…"
      ]
     },
     "metadata": {},
     "output_type": "display_data"
    },
    {
     "data": {
      "application/vnd.jupyter.widget-view+json": {
       "model_id": "",
       "version_major": 2,
       "version_minor": 0
      },
      "text/plain": [
       "HBox(children=(IntProgress(value=0, description='Step', max=938, style=ProgressStyle(description_width='initia…"
      ]
     },
     "metadata": {},
     "output_type": "display_data"
    },
    {
     "name": "stdout",
     "output_type": "stream",
     "text": [
      "Epoch 1 - Training loss: 0.3057038386795185\n"
     ]
    },
    {
     "data": {
      "application/vnd.jupyter.widget-view+json": {
       "model_id": "",
       "version_major": 2,
       "version_minor": 0
      },
      "text/plain": [
       "HBox(children=(IntProgress(value=0, description='Step', max=938, style=ProgressStyle(description_width='initia…"
      ]
     },
     "metadata": {},
     "output_type": "display_data"
    },
    {
     "name": "stdout",
     "output_type": "stream",
     "text": [
      "Epoch 2 - Training loss: 0.14054959807505232\n"
     ]
    },
    {
     "data": {
      "application/vnd.jupyter.widget-view+json": {
       "model_id": "",
       "version_major": 2,
       "version_minor": 0
      },
      "text/plain": [
       "HBox(children=(IntProgress(value=0, description='Step', max=938, style=ProgressStyle(description_width='initia…"
      ]
     },
     "metadata": {},
     "output_type": "display_data"
    },
    {
     "name": "stdout",
     "output_type": "stream",
     "text": [
      "Epoch 3 - Training loss: 0.10003434041135711\n"
     ]
    },
    {
     "data": {
      "application/vnd.jupyter.widget-view+json": {
       "model_id": "",
       "version_major": 2,
       "version_minor": 0
      },
      "text/plain": [
       "HBox(children=(IntProgress(value=0, description='Step', max=938, style=ProgressStyle(description_width='initia…"
      ]
     },
     "metadata": {},
     "output_type": "display_data"
    },
    {
     "name": "stdout",
     "output_type": "stream",
     "text": [
      "Epoch 4 - Training loss: 0.08417328665202269\n"
     ]
    },
    {
     "data": {
      "application/vnd.jupyter.widget-view+json": {
       "model_id": "",
       "version_major": 2,
       "version_minor": 0
      },
      "text/plain": [
       "HBox(children=(IntProgress(value=0, description='Step', max=938, style=ProgressStyle(description_width='initia…"
      ]
     },
     "metadata": {},
     "output_type": "display_data"
    },
    {
     "name": "stdout",
     "output_type": "stream",
     "text": [
      "Epoch 5 - Training loss: 0.07094038072040182\n"
     ]
    },
    {
     "data": {
      "application/vnd.jupyter.widget-view+json": {
       "model_id": "",
       "version_major": 2,
       "version_minor": 0
      },
      "text/plain": [
       "HBox(children=(IntProgress(value=0, description='Step', max=938, style=ProgressStyle(description_width='initia…"
      ]
     },
     "metadata": {},
     "output_type": "display_data"
    },
    {
     "name": "stdout",
     "output_type": "stream",
     "text": [
      "Epoch 6 - Training loss: 0.06277871079112925\n"
     ]
    },
    {
     "data": {
      "application/vnd.jupyter.widget-view+json": {
       "model_id": "",
       "version_major": 2,
       "version_minor": 0
      },
      "text/plain": [
       "HBox(children=(IntProgress(value=0, description='Step', max=938, style=ProgressStyle(description_width='initia…"
      ]
     },
     "metadata": {},
     "output_type": "display_data"
    },
    {
     "name": "stdout",
     "output_type": "stream",
     "text": [
      "Epoch 7 - Training loss: 0.0547612123562446\n"
     ]
    },
    {
     "data": {
      "application/vnd.jupyter.widget-view+json": {
       "model_id": "",
       "version_major": 2,
       "version_minor": 0
      },
      "text/plain": [
       "HBox(children=(IntProgress(value=0, description='Step', max=938, style=ProgressStyle(description_width='initia…"
      ]
     },
     "metadata": {},
     "output_type": "display_data"
    },
    {
     "name": "stdout",
     "output_type": "stream",
     "text": [
      "Epoch 8 - Training loss: 0.04715741393819098\n"
     ]
    },
    {
     "data": {
      "application/vnd.jupyter.widget-view+json": {
       "model_id": "",
       "version_major": 2,
       "version_minor": 0
      },
      "text/plain": [
       "HBox(children=(IntProgress(value=0, description='Step', max=938, style=ProgressStyle(description_width='initia…"
      ]
     },
     "metadata": {},
     "output_type": "display_data"
    },
    {
     "name": "stdout",
     "output_type": "stream",
     "text": [
      "Epoch 9 - Training loss: 0.046827063879813814\n"
     ]
    },
    {
     "data": {
      "application/vnd.jupyter.widget-view+json": {
       "model_id": "",
       "version_major": 2,
       "version_minor": 0
      },
      "text/plain": [
       "HBox(children=(IntProgress(value=0, description='Step', max=938, style=ProgressStyle(description_width='initia…"
      ]
     },
     "metadata": {},
     "output_type": "display_data"
    },
    {
     "name": "stdout",
     "output_type": "stream",
     "text": [
      "Epoch 10 - Training loss: 0.0389970497145734\n",
      "\n",
      "\n",
      "Training Time (in minutes) = 3.05\n"
     ]
    }
   ],
   "source": [
    "model.train_model(10)"
   ]
  },
  {
   "cell_type": "code",
   "execution_count": 33,
   "metadata": {
    "colab": {
     "base_uri": "https://localhost:8080/",
     "height": 34
    },
    "colab_type": "code",
    "executionInfo": {
     "elapsed": 1252,
     "status": "ok",
     "timestamp": 1557404807525,
     "user": {
      "displayName": "Scot Favorite",
      "photoUrl": "https://lh4.googleusercontent.com/-3y6D5_1Qqn0/AAAAAAAAAAI/AAAAAAAAACY/VZIIF48ZBTQ/s64/photo.jpg",
      "userId": "11040752765604455739"
     },
     "user_tz": 240
    },
    "id": "O8Cds4mNTb2Y",
    "outputId": "c4f8fc04-0162-4547-b958-907b8c2364f8"
   },
   "outputs": [
    {
     "name": "stdout",
     "output_type": "stream",
     "text": [
      "Accuracy of the model on the 10000 test images:  97 %\n"
     ]
    }
   ],
   "source": [
    "correct = 0\n",
    "total = 0\n",
    "for images, labels in test_loader:\n",
    "    images = images.view(-1, 28 * 28)\n",
    "    outputs = model(images)\n",
    "    _, predicted = torch.max(outputs.data, 1)\n",
    "    total += labels.size(0)\n",
    "    correct += (predicted == labels).sum()\n",
    "\n",
    "    \n",
    "print('Accuracy of the model on the 10000 test images: % d %%' % (100 * correct / total))"
   ]
  },
  {
   "cell_type": "markdown",
   "metadata": {
    "colab_type": "text",
    "id": "jcJSkfO9Tb2i"
   },
   "source": [
    "# Save the model "
   ]
  },
  {
   "cell_type": "code",
   "execution_count": 34,
   "metadata": {
    "colab": {},
    "colab_type": "code",
    "id": "fEcUwCFUTb2l"
   },
   "outputs": [],
   "source": [
    "torch.save(model.state_dict(), 'mnist.pt')"
   ]
  },
  {
   "cell_type": "markdown",
   "metadata": {},
   "source": [
    "## Show a batch of the images"
   ]
  },
  {
   "cell_type": "code",
   "execution_count": 35,
   "metadata": {
    "colab": {},
    "colab_type": "code",
    "id": "-Xdf9907Tb23"
   },
   "outputs": [],
   "source": [
    "def print_batch(images):\n",
    "    figure = plt.figure()\n",
    "    num_of_images = 60\n",
    "    for index in range(1, num_of_images + 1):\n",
    "        plt.subplot(6, 10, index)\n",
    "        plt.axis('off')\n",
    "        plt.imshow(images[index].numpy().squeeze(), cmap='gray_r')"
   ]
  },
  {
   "cell_type": "code",
   "execution_count": 36,
   "metadata": {
    "colab": {
     "base_uri": "https://localhost:8080/",
     "height": 266
    },
    "colab_type": "code",
    "executionInfo": {
     "elapsed": 81130,
     "status": "ok",
     "timestamp": 1557402148698,
     "user": {
      "displayName": "Scot Favorite",
      "photoUrl": "https://lh4.googleusercontent.com/-3y6D5_1Qqn0/AAAAAAAAAAI/AAAAAAAAACY/VZIIF48ZBTQ/s64/photo.jpg",
      "userId": "11040752765604455739"
     },
     "user_tz": 240
    },
    "id": "zwDEyJWETb27",
    "outputId": "09b60da9-3245-47f1-e9a3-641b805c0e80"
   },
   "outputs": [
    {
     "data": {
      "image/png": "[encoded data removed]",
      "text/plain": [
       "<Figure size 432x288 with 60 Axes>"
      ]
     },
     "metadata": {
      "needs_background": "light"
     },
     "output_type": "display_data"
    }
   ],
   "source": [
    "images, labels = next(iter(test_loader))\n",
    "print_batch(images)"
   ]
  },
  {
   "cell_type": "code",
   "execution_count": 37,
   "metadata": {
    "colab": {
     "base_uri": "https://localhost:8080/",
     "height": 303
    },
    "colab_type": "code",
    "executionInfo": {
     "elapsed": 79992,
     "status": "ok",
     "timestamp": 1557402148844,
     "user": {
      "displayName": "Scot Favorite",
      "photoUrl": "https://lh4.googleusercontent.com/-3y6D5_1Qqn0/AAAAAAAAAAI/AAAAAAAAACY/VZIIF48ZBTQ/s64/photo.jpg",
      "userId": "11040752765604455739"
     },
     "user_tz": 240
    },
    "id": "XQTV8D6DTb3B",
    "outputId": "2c250ebb-5509-4436-af92-33468fe3a2ae"
   },
   "outputs": [
    {
     "name": "stdout",
     "output_type": "stream",
     "text": [
      "Predicted: 5\n",
      "Actual: 5\n"
     ]
    },
    {
     "data": {
      "image/png": "[encoded data removed]",
      "text/plain": [
       "<Figure size 432x288 with 1 Axes>"
      ]
     },
     "metadata": {
      "needs_background": "light"
     },
     "output_type": "display_data"
    }
   ],
   "source": [
    "plt.imshow(images[0].numpy().squeeze(), cmap='gray_r');\n",
    "\n",
    "images = images.view(images.shape[0], -1)\n",
    "\n",
    "probs = model(images)\n",
    "predicted = probs[0].argmax()\n",
    "predicted = int(predicted)\n",
    "print(\"Predicted: \" + str(predicted))\n",
    "actual = int(labels[0])\n",
    "print(\"Actual: \" + str(actual))"
   ]
  },
  {
   "cell_type": "markdown",
   "metadata": {},
   "source": [
    "# Work with new images"
   ]
  },
  {
   "cell_type": "markdown",
   "metadata": {},
   "source": [
    "These new images I drew."
   ]
  },
  {
   "cell_type": "markdown",
   "metadata": {
    "colab_type": "text",
    "id": "RrYkzcOVTb3G"
   },
   "source": [
    "## Use the PIL library to manipulate the images"
   ]
  },
  {
   "cell_type": "code",
   "execution_count": 38,
   "metadata": {
    "colab": {},
    "colab_type": "code",
    "id": "4dlk21cxTb3H"
   },
   "outputs": [],
   "source": [
    "from PIL import Image\n",
    "from PIL import ImageOps\n",
    "import numpy as np"
   ]
  },
  {
   "cell_type": "markdown",
   "metadata": {
    "colab_type": "text",
    "id": "r8SAm6ycTb3K"
   },
   "source": [
    "# Read and Predict"
   ]
  },
  {
   "cell_type": "code",
   "execution_count": 39,
   "metadata": {
    "colab": {
     "base_uri": "https://localhost:8080/",
     "height": 358
    },
    "colab_type": "code",
    "executionInfo": {
     "elapsed": 379,
     "status": "error",
     "timestamp": 1557404710579,
     "user": {
      "displayName": "Scot Favorite",
      "photoUrl": "https://lh4.googleusercontent.com/-3y6D5_1Qqn0/AAAAAAAAAAI/AAAAAAAAACY/VZIIF48ZBTQ/s64/photo.jpg",
      "userId": "11040752765604455739"
     },
     "user_tz": 240
    },
    "id": "kzUdXALGTb3M",
    "outputId": "fbf322bb-fdef-4432-c1dc-2adf9038bb43"
   },
   "outputs": [
    {
     "name": "stdout",
     "output_type": "stream",
     "text": [
      "Predicted: tensor(3)\n"
     ]
    },
    {
     "data": {
      "image/png": "[encoded data removed]",
      "text/plain": [
       "<Figure size 432x288 with 1 Axes>"
      ]
     },
     "metadata": {
      "needs_background": "light"
     },
     "output_type": "display_data"
    }
   ],
   "source": [
    "png = Image.open(\"./images/three.png\").convert('L')\n",
    "\n",
    "img = transform1(png)\n",
    "plt.imshow(img.numpy().squeeze(), cmap='gray_r')\n",
    "\n",
    "img = img.view(-1)\n",
    "probs = model(img)\n",
    "print(\"Predicted: \" + str(probs.argmax()))"
   ]
  },
  {
   "cell_type": "code",
   "execution_count": 40,
   "metadata": {
    "colab": {
     "base_uri": "https://localhost:8080/",
     "height": 119
    },
    "colab_type": "code",
    "executionInfo": {
     "elapsed": 300,
     "status": "ok",
     "timestamp": 1557407414222,
     "user": {
      "displayName": "Scot Favorite",
      "photoUrl": "https://lh4.googleusercontent.com/-3y6D5_1Qqn0/AAAAAAAAAAI/AAAAAAAAACY/VZIIF48ZBTQ/s64/photo.jpg",
      "userId": "11040752765604455739"
     },
     "user_tz": 240
    },
    "id": "tfyaYDPATb3S",
    "outputId": "fe058df4-0118-4d65-ed35-4e742799cc97"
   },
   "outputs": [
    {
     "name": "stdout",
     "output_type": "stream",
     "text": [
      "zero.png\n",
      "Predicted: 0\n",
      "Actual: 0\n",
      "\n",
      "seven.png\n",
      "Predicted: 1\n",
      "Actual: 7\n",
      "\n",
      "four.png\n",
      "Predicted: 4\n",
      "Actual: 4\n",
      "\n",
      "six.png\n",
      "Predicted: 5\n",
      "Actual: 6\n",
      "\n",
      "one.png\n",
      "Predicted: 1\n",
      "Actual: 1\n",
      "\n",
      "two.png\n",
      "Predicted: 2\n",
      "Actual: 2\n",
      "\n",
      "five.png\n",
      "Predicted: 5\n",
      "Actual: 5\n",
      "\n",
      "eight.png\n",
      "Predicted: 3\n",
      "Actual: 8\n",
      "\n",
      "three.png\n",
      "Predicted: 3\n",
      "Actual: 3\n",
      "\n",
      "nine.png\n",
      "Predicted: 3\n",
      "Actual: 9\n",
      "\n",
      "6\n",
      "Percent correct: 60%\n"
     ]
    }
   ],
   "source": [
    "import os\n",
    "images = [] \n",
    "images += [each for each in os.listdir('./images/') if each.endswith('.png')]\n",
    "\n",
    "numbers = {'zero': 0, 'one': 1, 'two': 2, 'three': 3, 'four': 4, 'five':5, 'six': 6, 'seven': 7, 'eight': 8, 'nine': 9}\n",
    "correct = 0\n",
    "num_predicted = 0\n",
    "for i, file in enumerate(images):\n",
    "    image = Image.open('./images/' + file).convert('L')\n",
    "    print(file)\n",
    "    # Get the name of the file and use this to compare to the predicted value.\n",
    "    actual = os.path.splitext(file)[0]\n",
    "\n",
    "    img = transform1(image)\n",
    "\n",
    "    img = img.view(-1)\n",
    "    \n",
    "    probs = model(img)\n",
    "    \n",
    "    # Get the value out of the tensor     \n",
    "    probs_value = probs.argmax().item()\n",
    "\n",
    "    print('Predicted: ' + str(probs_value))\n",
    "\n",
    "    print('Actual: ' + str(numbers[actual]), end='\\n\\n')\n",
    "    # Keep track of how many we got correct \n",
    "    correct += 1 if numbers[actual] == probs_value else 0\n",
    "    num_predicted += 1\n",
    "    \n",
    "print(correct)\n",
    "print('Percent correct: ' + str(round(correct/num_predicted*100)) + '%')"
   ]
  },
  {
   "cell_type": "code",
   "execution_count": null,
   "metadata": {},
   "outputs": [],
   "source": []
  }
 ],
 "metadata": {
  "colab": {
   "collapsed_sections": [],
   "name": "mnist_class.ipynb",
   "provenance": [],
   "toc_visible": true,
   "version": "0.3.2"
  },
  "kernelspec": {
   "display_name": "mnist",
   "language": "python",
   "name": "mnist"
  },
  "language_info": {
   "codemirror_mode": {
    "name": "ipython",
    "version": 3
   },
   "file_extension": ".py",
   "mimetype": "text/x-python",
   "name": "python",
   "nbconvert_exporter": "python",
   "pygments_lexer": "ipython3",
   "version": "3.6.8"
  }
 },
 "nbformat": 4,
 "nbformat_minor": 2
}
